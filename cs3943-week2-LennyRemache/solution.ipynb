{
 "cells": [
  {
   "cell_type": "markdown",
   "metadata": {},
   "source": [
    "# CS-UY 3943 - Introduction of Data Science\n",
    "## Week 2: Using the Command-line"
   ]
  },
  {
   "cell_type": "markdown",
   "metadata": {},
   "source": [
    "*Please edit the cell below to add your name, NetID, assigned group, and group members for this assignment.* **Complete this section before proceeding to the assignment questions.**"
   ]
  },
  {
   "cell_type": "markdown",
   "metadata": {},
   "source": [
    "Name: Lenny Remache\n",
    "NetID: ljr381\n",
    "Group (Letter): G \n",
    "Group Member 1: Jeremy \n",
    "Group Member 2: Ricky\n",
    "***"
   ]
  },
  {
   "cell_type": "markdown",
   "metadata": {},
   "source": [
    "#### Part 1 - Processing Loan Data\n",
    "A file named **loans_data.csv** is included in your repository. This file consists of records that pertain to loan records in a local bank. There are 15 comma separated columns in this order: \n",
    "\n",
    "`CustNum`, `Amount.Requested`,\t`Amount.Funded.By.Investors`,\t`Interest.Rate`,\t`Loan.Length`,\t`Loan.Purpose`,\t`Debt.To.Income.Ratio`,\t`State`,\t`Home.Ownership`,\t`Monthly.Income`,\t`FICO.Range`,\t`Open.CREDIT.Lines`,\t`Revolving.CREDIT.Balance`,\t`Inquiries.in.the.Last.6.Months`, and\t`Employment.Length`. \n",
    "\n",
    "These fields contain data of type `int`, `float`, and `string`, and you are also provided a file named **loans_data_columns.csv** in the repository containing all the column names for easy reference.  Answer the following questions using Linux/Unix bash commands. All questions can be answered in one line (sometimes, with pipes)! Some questions will have many possible solutions. In jupter notebooks, you must prefix all shell commands with an exclamation point, i.e. `!command argument(s)` in order to execute the commands. As an example, to output the contents of a file named **file1.txt** followed by the contents of a file named **file2.txt**, you could execute the following command in the shell:\n",
    "\n",
    "`cat file1.txt file2.txt`\n",
    "\n",
    "In order to replicate this command in Jupyter Notebook, execute the following in a code cell:\n",
    "\n",
    "`!cat file1.txt file2.txt`"
   ]
  },
  {
   "cell_type": "markdown",
   "metadata": {},
   "source": [
    "1\\. How many records (lines) are in **loans_data.csv**?"
   ]
  },
  {
   "cell_type": "code",
   "execution_count": 4,
   "metadata": {},
   "outputs": [
    {
     "name": "stdout",
     "output_type": "stream",
     "text": [
      "    2501 loans_data.csv\r\n"
     ]
    }
   ],
   "source": [
    "!wc -l loans_data.csv"
   ]
  },
  {
   "cell_type": "markdown",
   "metadata": {},
   "source": [
    "<p>\n",
    "<span style=\"color:blue\">\n",
    "2501</span>\n",
    "</p>"
   ]
  },
  {
   "cell_type": "markdown",
   "metadata": {},
   "source": [
    "2\\. How many unique `State` (the 8th field) values are in this file? (hint: consider the 'cut' command and use the pipe operator '|')"
   ]
  },
  {
   "cell_type": "code",
   "execution_count": 12,
   "metadata": {},
   "outputs": [
    {
     "name": "stdout",
     "output_type": "stream",
     "text": [
      "      47\r\n"
     ]
    }
   ],
   "source": [
    "!cut -d , -f 8 loans_data.csv | sort | uniq | wc -l"
   ]
  },
  {
   "cell_type": "markdown",
   "metadata": {},
   "source": [
    "<p>\n",
    "<span style=\"color:blue\">\n",
    "47</span>\n",
    "</p>"
   ]
  },
  {
   "cell_type": "code",
   "execution_count": null,
   "metadata": {},
   "outputs": [],
   "source": []
  },
  {
   "cell_type": "markdown",
   "metadata": {},
   "source": [
    "3\\. Rank the reasons (`Loan.Purpose` (the 6th field)) loans were requested in descending order including the count of each category. (HINT: consider the `cut`, `uniq` and `sort` commands and the pipe (`|`) operator)."
   ]
  },
  {
   "cell_type": "code",
   "execution_count": 9,
   "metadata": {},
   "outputs": [
    {
     "name": "stdout",
     "output_type": "stream",
     "text": [
      "1307 \"debt_consolidation\"\r\n",
      " 444 \"credit_card\"\r\n",
      " 201 \"other\"\r\n",
      " 152 \"home_improvement\"\r\n",
      " 101 \"major_purchase\"\r\n",
      "  87 \"small_business\"\r\n",
      "  50 \"car\"\r\n",
      "  39 \"wedding\"\r\n",
      "  30 \"medical\"\r\n",
      "  29 \"moving\"\r\n",
      "  21 \"vacation\"\r\n",
      "  20 \"house\"\r\n",
      "  15 \"educational\"\r\n",
      "   4 \"renewable_energy\"\r\n"
     ]
    }
   ],
   "source": [
    "!cut -d , -f 6 loans_data.csv | sort | uniq -c | sort -r | head -n 14"
   ]
  },
  {
   "cell_type": "markdown",
   "metadata": {},
   "source": [
    "4\\. List all records which have `FICO.Range` (the 11th field) from 815-819. (hint: This can be done using `grep`. Use `man` for a list of the command-line arguments available for `grep`.)"
   ]
  },
  {
   "cell_type": "code",
   "execution_count": 12,
   "metadata": {},
   "outputs": [
    {
     "name": "stdout",
     "output_type": "stream",
     "text": [
      "\"64884\",9000,9000,\"6.03%\",\"36 months\",\"vacation\",\"5.58%\",\"NJ\",\"MORTGAGE\",9583.33,\"815-819\",11,675,0,\"n/a\"\r\n",
      "\"55501\",8000,8000,\"6.03%\",\"36 months\",\"debt_consolidation\",\"4.51%\",\"OR\",\"MORTGAGE\",3500,\"815-819\",9,6737,0,\"10+ years\"\r\n",
      "\"93374\",16500,16500,\"6.03%\",\"36 months\",\"debt_consolidation\",\"22.65%\",\"CA\",\"MORTGAGE\",5416.67,\"815-819\",17,14835,0,\"10+ years\"\r\n",
      "\"90568\",4800,4800,\"6.62%\",\"36 months\",\"car\",\"10.42%\",\"TX\",\"MORTGAGE\",7291.67,\"815-819\",14,0,0,\"< 1 year\"\r\n",
      "\"80302\",16800,16800,\"7.90%\",\"60 months\",\"debt_consolidation\",\"3.34%\",\"FL\",\"MORTGAGE\",10666.67,\"815-819\",7,4757,0,\"10+ years\"\r\n",
      "\"5906\",12800,12787.71,\"8.94%\",\"36 months\",\"debt_consolidation\",\"0.18%\",\"AZ\",\"MORTGAGE\",2833.33,\"815-819\",7,306,0,\"4 years\"\r\n"
     ]
    }
   ],
   "source": [
    "!grep 815-819 loans_data.csv"
   ]
  },
  {
   "cell_type": "markdown",
   "metadata": {},
   "source": [
    "#### Part 2 - Combining Data Files\n",
    "A second file is present in your repository, within the `music` directory. This directory consists of 4 files: `tracks1.csv`, `tracks2.csv`, `tracks3.csv`, and `tracks4.csv`. Each file contains data about musical tracks. While all of the invidual the files contain the same columns, \n",
    "\n",
    "`track_id`, `bit_rate`, `comments`, `composer`, `date_created`, `date_recorded`, `duration`, `favorites`, `genre_top`, `genres`, `genres_all`, `information`, `interest`, `language_code`, `license`, `listens`, `lyricist`, `number`, `publisher`, `tags`, and `title`\n",
    "\n",
    "it is more convinent to process the data as a single file. Combining the files into a single file can be accomplished using command line tools.\n"
   ]
  },
  {
   "cell_type": "markdown",
   "metadata": {},
   "source": [
    "1\\. Using `ls`, `wc`, and a pipe operator (`|`), write and execute a shell command that displays the number of `.csv` files contained in the `music` directory."
   ]
  },
  {
   "cell_type": "code",
   "execution_count": 2,
   "metadata": {},
   "outputs": [
    {
     "name": "stdout",
     "output_type": "stream",
     "text": [
      "       4\r\n"
     ]
    }
   ],
   "source": [
    "!ls ./music/*.csv | wc -l"
   ]
  },
  {
   "cell_type": "markdown",
   "metadata": {},
   "source": [
    "2\\. Join the files together into a new file named **all_tracks.csv**. Perform the concatenation such that only the header from the first file (**tracks1.csv**) is added to the new file. For all other files, all lines **excluding** the header will be added to the new file. \n",
    "\n",
    "HINT: the operator `>>` can be used for redirection. This operator writes to the the file named on the right side of the operator such that data from the command on the left is appended to the file on the right. For example,\n",
    "\n",
    "`echo \"Inserting a line\" >> output.txt`\n",
    "\n",
    "will add the text `Inserting a line` to the end of the file **output.txt**. Whereas, \n",
    "\n",
    "`echo \"Inserting a line\" > output.txt`\n",
    "\n",
    "will overwrite any previous data in **output.txt** and replace that data with the text `Inserting a line`."
   ]
  },
  {
   "cell_type": "markdown",
   "metadata": {},
   "source": [
    "1. Append the header (the first line) from **tracks1.csv** to **all_tracks.csv**."
   ]
  },
  {
   "cell_type": "code",
   "execution_count": 7,
   "metadata": {},
   "outputs": [],
   "source": [
    "!head -n 1 ./music/tracks1.csv >> all_tracks.csv"
   ]
  },
  {
   "cell_type": "markdown",
   "metadata": {},
   "source": [
    "2. Write a `for` loop that utilizes shell commands to append all lines (excluding the header line) from the input \"tracks\" files (**tracks1.csv**, **tracks2.csv**, **tracks3.csv**, **tracks4.csv**). While in this particular case, we know that there are 4 tracks files, write your `for` loop so that it would work regardless of the number of tracks files available to append to **all_tracks.csv**.\n",
    "\n",
    "&nbsp;&nbsp;&nbsp;&nbsp;&nbsp;&nbsp;&nbsp;For Windows users, use the following syntax to execute your `for` loop:\n",
    "\n",
    "&nbsp;&nbsp;&nbsp;&nbsp;&nbsp;&nbsp;&nbsp;`!bash -c \"LOOP\"`\n",
    "\n",
    "&nbsp;&nbsp;&nbsp;&nbsp;&nbsp;&nbsp;&nbsp;where `LOOP` is replaced with the the `for` loop to execute."
   ]
  },
  {
   "cell_type": "code",
   "execution_count": 4,
   "metadata": {},
   "outputs": [],
   "source": [
    "!for file in ./music/*.csv; do tail -n+2 $file >> all_tracks.csv; done"
   ]
  },
  {
   "cell_type": "markdown",
   "metadata": {},
   "source": [
    "3\\. Confirm that **all_tracks.csv** contains all of the lines from the input files. Do this by executing a command showing the number of lines in all of the input files as well as the number of lines in **all_tracks.csv**. (The count of lines in **all_tracks.csv** will be one greater than the sum of the input files due to a newline character at the end of the files)."
   ]
  },
  {
   "cell_type": "code",
   "execution_count": 8,
   "metadata": {},
   "outputs": [
    {
     "name": "stdout",
     "output_type": "stream",
     "text": [
      "   28851 ./music/tracks1.csv\n",
      "   27602 ./music/tracks2.csv\n",
      "   26977 ./music/tracks3.csv\n",
      "   32344 ./music/tracks4.csv\n",
      "  115773 all_tracks.csv\n",
      "  231547 total\n"
     ]
    }
   ],
   "source": [
    "!wc -l ./music/*.csv  all_tracks.csv"
   ]
  },
  {
   "cell_type": "markdown",
   "metadata": {},
   "source": [
    "4\\. Write and execute a shell command that will remove all of the files that were concatenated together as **all_tracks.csv**."
   ]
  },
  {
   "cell_type": "code",
   "execution_count": 13,
   "metadata": {},
   "outputs": [],
   "source": [
    "!rm ./music/*.csv"
   ]
  },
  {
   "cell_type": "markdown",
   "metadata": {},
   "source": [
    "5\\. From Terminal/Anaconda Prompt, add **all_tracks.csv** to your repository. Commit and push the changes to this Jupyter notebook and the **music** directory (which should now only contain a single file) to your repository."
   ]
  },
  {
   "cell_type": "code",
   "execution_count": 16,
   "metadata": {},
   "outputs": [
    {
     "name": "stdout",
     "output_type": "stream",
     "text": [
      "zsh:1: no matches found: ./music/*.csv\r\n"
     ]
    }
   ],
   "source": [
    "!head ./music/*.csv"
   ]
  },
  {
   "cell_type": "code",
   "execution_count": null,
   "metadata": {},
   "outputs": [],
   "source": []
  }
 ],
 "metadata": {
  "anaconda-cloud": {},
  "kernelspec": {
   "display_name": "DataScience",
   "language": "python",
   "name": "datascience"
  },
  "language_info": {
   "codemirror_mode": {
    "name": "ipython",
    "version": 3
   },
   "file_extension": ".py",
   "mimetype": "text/x-python",
   "name": "python",
   "nbconvert_exporter": "python",
   "pygments_lexer": "ipython3",
   "version": "3.9.7"
  }
 },
 "nbformat": 4,
 "nbformat_minor": 1
}
