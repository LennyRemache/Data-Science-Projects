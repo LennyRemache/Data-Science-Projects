{
 "cells": [
  {
   "cell_type": "markdown",
   "id": "674d41e7",
   "metadata": {},
   "source": [
    "# CS-UY 3943 - Introduction of Data Science\n",
    "## Week 4: Statistical Inference in Python"
   ]
  },
  {
   "cell_type": "markdown",
   "id": "ad9b3746",
   "metadata": {},
   "source": [
    "Please edit the cell below to add your name, NetID, assigned group, and group members for this assignment. **Complete this section before proceeding to the assignment questions.**"
   ]
  },
  {
   "cell_type": "markdown",
   "id": "4ef0b127",
   "metadata": {},
   "source": [
    "Name:  Lenny Remache\n",
    "NetID:  ljr381\n",
    "Group (Letter):  A\n",
    "Group Member 1:  Yashar Nasir\n",
    "Group Member 2:  Jason Zhagui \n",
    "***"
   ]
  },
  {
   "cell_type": "markdown",
   "id": "4023b0ba",
   "metadata": {},
   "source": [
    "### Introduction\n",
    "The data for this assignment comes from a [Kaggle](http://www.kaggle.com) competition designed with a goal of predicting the housing prices in the Ames, Iowa housing market given a number of attributes for each home. For this week's assignment, we will be using the dataset provided by Kaggle but our goals will differ from the original purpose of the competition.  "
   ]
  },
  {
   "cell_type": "markdown",
   "id": "06e6b00c",
   "metadata": {},
   "source": [
    "1\\. Read the data file **housing_data.csv** into your program as a `pandas` `DataFrame`. The sale price (in the `SalePrice` column) of homes is one of the features of interest in this data. Make two separate plots that show the distribution of sale prices in the dataset. There are multiple plot types that can be used to visualize the distribution but you are only required to use two different distribution visualization techniques for this exercise. (Don't forget to label your axes for your plots)."
   ]
  },
  {
   "cell_type": "code",
   "execution_count": 10,
   "id": "2100fe6b",
   "metadata": {},
   "outputs": [
    {
     "data": {
      "text/html": [
       "<div>\n",
       "<style scoped>\n",
       "    .dataframe tbody tr th:only-of-type {\n",
       "        vertical-align: middle;\n",
       "    }\n",
       "\n",
       "    .dataframe tbody tr th {\n",
       "        vertical-align: top;\n",
       "    }\n",
       "\n",
       "    .dataframe thead th {\n",
       "        text-align: right;\n",
       "    }\n",
       "</style>\n",
       "<table border=\"1\" class=\"dataframe\">\n",
       "  <thead>\n",
       "    <tr style=\"text-align: right;\">\n",
       "      <th></th>\n",
       "      <th>Id</th>\n",
       "      <th>MSSubClass</th>\n",
       "      <th>MSZoning</th>\n",
       "      <th>LotFrontage</th>\n",
       "      <th>LotArea</th>\n",
       "      <th>Street</th>\n",
       "      <th>Alley</th>\n",
       "      <th>LotShape</th>\n",
       "      <th>LandContour</th>\n",
       "      <th>Utilities</th>\n",
       "      <th>...</th>\n",
       "      <th>PoolArea</th>\n",
       "      <th>PoolQC</th>\n",
       "      <th>Fence</th>\n",
       "      <th>MiscFeature</th>\n",
       "      <th>MiscVal</th>\n",
       "      <th>MoSold</th>\n",
       "      <th>YrSold</th>\n",
       "      <th>SaleType</th>\n",
       "      <th>SaleCondition</th>\n",
       "      <th>SalePrice</th>\n",
       "    </tr>\n",
       "  </thead>\n",
       "  <tbody>\n",
       "    <tr>\n",
       "      <th>0</th>\n",
       "      <td>1</td>\n",
       "      <td>60</td>\n",
       "      <td>RL</td>\n",
       "      <td>65.0</td>\n",
       "      <td>8450</td>\n",
       "      <td>Pave</td>\n",
       "      <td>NaN</td>\n",
       "      <td>Reg</td>\n",
       "      <td>Lvl</td>\n",
       "      <td>AllPub</td>\n",
       "      <td>...</td>\n",
       "      <td>0</td>\n",
       "      <td>NaN</td>\n",
       "      <td>NaN</td>\n",
       "      <td>NaN</td>\n",
       "      <td>0</td>\n",
       "      <td>2</td>\n",
       "      <td>2008</td>\n",
       "      <td>WD</td>\n",
       "      <td>Normal</td>\n",
       "      <td>208500</td>\n",
       "    </tr>\n",
       "    <tr>\n",
       "      <th>1</th>\n",
       "      <td>2</td>\n",
       "      <td>20</td>\n",
       "      <td>RL</td>\n",
       "      <td>80.0</td>\n",
       "      <td>9600</td>\n",
       "      <td>Pave</td>\n",
       "      <td>NaN</td>\n",
       "      <td>Reg</td>\n",
       "      <td>Lvl</td>\n",
       "      <td>AllPub</td>\n",
       "      <td>...</td>\n",
       "      <td>0</td>\n",
       "      <td>NaN</td>\n",
       "      <td>NaN</td>\n",
       "      <td>NaN</td>\n",
       "      <td>0</td>\n",
       "      <td>5</td>\n",
       "      <td>2007</td>\n",
       "      <td>WD</td>\n",
       "      <td>Normal</td>\n",
       "      <td>181500</td>\n",
       "    </tr>\n",
       "    <tr>\n",
       "      <th>2</th>\n",
       "      <td>3</td>\n",
       "      <td>60</td>\n",
       "      <td>RL</td>\n",
       "      <td>68.0</td>\n",
       "      <td>11250</td>\n",
       "      <td>Pave</td>\n",
       "      <td>NaN</td>\n",
       "      <td>IR1</td>\n",
       "      <td>Lvl</td>\n",
       "      <td>AllPub</td>\n",
       "      <td>...</td>\n",
       "      <td>0</td>\n",
       "      <td>NaN</td>\n",
       "      <td>NaN</td>\n",
       "      <td>NaN</td>\n",
       "      <td>0</td>\n",
       "      <td>9</td>\n",
       "      <td>2008</td>\n",
       "      <td>WD</td>\n",
       "      <td>Normal</td>\n",
       "      <td>223500</td>\n",
       "    </tr>\n",
       "    <tr>\n",
       "      <th>3</th>\n",
       "      <td>4</td>\n",
       "      <td>70</td>\n",
       "      <td>RL</td>\n",
       "      <td>60.0</td>\n",
       "      <td>9550</td>\n",
       "      <td>Pave</td>\n",
       "      <td>NaN</td>\n",
       "      <td>IR1</td>\n",
       "      <td>Lvl</td>\n",
       "      <td>AllPub</td>\n",
       "      <td>...</td>\n",
       "      <td>0</td>\n",
       "      <td>NaN</td>\n",
       "      <td>NaN</td>\n",
       "      <td>NaN</td>\n",
       "      <td>0</td>\n",
       "      <td>2</td>\n",
       "      <td>2006</td>\n",
       "      <td>WD</td>\n",
       "      <td>Abnorml</td>\n",
       "      <td>140000</td>\n",
       "    </tr>\n",
       "    <tr>\n",
       "      <th>4</th>\n",
       "      <td>5</td>\n",
       "      <td>60</td>\n",
       "      <td>RL</td>\n",
       "      <td>84.0</td>\n",
       "      <td>14260</td>\n",
       "      <td>Pave</td>\n",
       "      <td>NaN</td>\n",
       "      <td>IR1</td>\n",
       "      <td>Lvl</td>\n",
       "      <td>AllPub</td>\n",
       "      <td>...</td>\n",
       "      <td>0</td>\n",
       "      <td>NaN</td>\n",
       "      <td>NaN</td>\n",
       "      <td>NaN</td>\n",
       "      <td>0</td>\n",
       "      <td>12</td>\n",
       "      <td>2008</td>\n",
       "      <td>WD</td>\n",
       "      <td>Normal</td>\n",
       "      <td>250000</td>\n",
       "    </tr>\n",
       "  </tbody>\n",
       "</table>\n",
       "<p>5 rows × 81 columns</p>\n",
       "</div>"
      ],
      "text/plain": [
       "   Id  MSSubClass MSZoning  LotFrontage  LotArea Street Alley LotShape  \\\n",
       "0   1          60       RL         65.0     8450   Pave   NaN      Reg   \n",
       "1   2          20       RL         80.0     9600   Pave   NaN      Reg   \n",
       "2   3          60       RL         68.0    11250   Pave   NaN      IR1   \n",
       "3   4          70       RL         60.0     9550   Pave   NaN      IR1   \n",
       "4   5          60       RL         84.0    14260   Pave   NaN      IR1   \n",
       "\n",
       "  LandContour Utilities  ... PoolArea PoolQC Fence MiscFeature MiscVal MoSold  \\\n",
       "0         Lvl    AllPub  ...        0    NaN   NaN         NaN       0      2   \n",
       "1         Lvl    AllPub  ...        0    NaN   NaN         NaN       0      5   \n",
       "2         Lvl    AllPub  ...        0    NaN   NaN         NaN       0      9   \n",
       "3         Lvl    AllPub  ...        0    NaN   NaN         NaN       0      2   \n",
       "4         Lvl    AllPub  ...        0    NaN   NaN         NaN       0     12   \n",
       "\n",
       "  YrSold  SaleType  SaleCondition  SalePrice  \n",
       "0   2008        WD         Normal     208500  \n",
       "1   2007        WD         Normal     181500  \n",
       "2   2008        WD         Normal     223500  \n",
       "3   2006        WD        Abnorml     140000  \n",
       "4   2008        WD         Normal     250000  \n",
       "\n",
       "[5 rows x 81 columns]"
      ]
     },
     "execution_count": 10,
     "metadata": {},
     "output_type": "execute_result"
    }
   ],
   "source": [
    "import numpy as np\n",
    "import pandas as pd\n",
    "import seaborn as sns\n",
    "import matplotlib.pyplot as plt\n",
    "%matplotlib inline\n",
    "\n",
    "# Place your code here\n",
    "housingDF = pd.read_csv('housing_data.csv')\n",
    "housingDF.head()"
   ]
  },
  {
   "cell_type": "code",
   "execution_count": 15,
   "id": "02abe195",
   "metadata": {},
   "outputs": [
    {
     "data": {
      "text/html": [
       "<div>\n",
       "<style scoped>\n",
       "    .dataframe tbody tr th:only-of-type {\n",
       "        vertical-align: middle;\n",
       "    }\n",
       "\n",
       "    .dataframe tbody tr th {\n",
       "        vertical-align: top;\n",
       "    }\n",
       "\n",
       "    .dataframe thead th {\n",
       "        text-align: right;\n",
       "    }\n",
       "</style>\n",
       "<table border=\"1\" class=\"dataframe\">\n",
       "  <thead>\n",
       "    <tr style=\"text-align: right;\">\n",
       "      <th></th>\n",
       "      <th>SalePrice</th>\n",
       "    </tr>\n",
       "  </thead>\n",
       "  <tbody>\n",
       "    <tr>\n",
       "      <th>0</th>\n",
       "      <td>208500</td>\n",
       "    </tr>\n",
       "    <tr>\n",
       "      <th>1</th>\n",
       "      <td>181500</td>\n",
       "    </tr>\n",
       "    <tr>\n",
       "      <th>2</th>\n",
       "      <td>223500</td>\n",
       "    </tr>\n",
       "    <tr>\n",
       "      <th>3</th>\n",
       "      <td>140000</td>\n",
       "    </tr>\n",
       "    <tr>\n",
       "      <th>4</th>\n",
       "      <td>250000</td>\n",
       "    </tr>\n",
       "  </tbody>\n",
       "</table>\n",
       "</div>"
      ],
      "text/plain": [
       "   SalePrice\n",
       "0     208500\n",
       "1     181500\n",
       "2     223500\n",
       "3     140000\n",
       "4     250000"
      ]
     },
     "execution_count": 15,
     "metadata": {},
     "output_type": "execute_result"
    }
   ],
   "source": [
    "salePriceDF = pd.DataFrame(housingDF['SalePrice'])\n",
    "salePriceDF.head()"
   ]
  },
  {
   "cell_type": "code",
   "execution_count": 17,
   "id": "fd6e567d",
   "metadata": {},
   "outputs": [
    {
     "name": "stdout",
     "output_type": "stream",
     "text": [
      "RangeIndex(start=0, stop=1460, step=1)\n"
     ]
    }
   ],
   "source": [
    "print(salePriceDF.index)"
   ]
  },
  {
   "cell_type": "code",
   "execution_count": 47,
   "id": "6f1ba87b",
   "metadata": {},
   "outputs": [
    {
     "data": {
      "image/png": "[encoded data removed]",
      "text/plain": [
       "<Figure size 432x288 with 1 Axes>"
      ]
     },
     "metadata": {},
     "output_type": "display_data"
    }
   ],
   "source": [
    "def ecdf(data):\n",
    "    \"\"\"Compute ECDF for a one-dimensional array of measurements.\"\"\"\n",
    "    # Number of data points: n\n",
    "    n = len(data)\n",
    "\n",
    "    # x-data for the ECDF: x\n",
    "    x = np.sort(data)\n",
    "\n",
    "    # y-data for the ECDF: y\n",
    "    y = np.arange(1, n+1) / n\n",
    "\n",
    "    return x, y\n",
    "\n",
    "x_housing, y_housing = ecdf(salePriceDF['SalePrice'])\n",
    "\n",
    "# Generate plot\n",
    "_ = plt.plot(x_housing, y_housing, marker='.', linestyle='none')\n",
    "\n",
    "# Label the axes\n",
    "_ = plt.ylabel(\"ECDF\")\n",
    "_ = plt.xlabel(\"Sale Price\")\n",
    "\n",
    "# Display the plot\n",
    "plt.show()"
   ]
  },
  {
   "cell_type": "code",
   "execution_count": 43,
   "id": "069f21fe",
   "metadata": {},
   "outputs": [
    {
     "data": {
      "image/png": "[encoded data removed]",
      "text/plain": [
       "<Figure size 432x288 with 1 Axes>"
      ]
     },
     "metadata": {},
     "output_type": "display_data"
    }
   ],
   "source": [
    "sns.set()\n",
    "_ = plt.hist(salePriceDF, bins=15)\n",
    "_ = plt.xlabel('Sale Price')\n",
    "_ = plt.ylabel('Number of Houses')\n",
    "plt.show()"
   ]
  },
  {
   "cell_type": "markdown",
   "id": "98153bd3",
   "metadata": {},
   "source": [
    "2\\. Depending on how you chose to visualize the distribution, you likely can see a wide range of sale prices concentrated between 100k and 300k with a long tail. In a later, assignment the goal will be to attempt to predict sale prices from features available in the dataset. For now, consider a single characteristic of what feature might impact the sale price of a home. It is reasonable to think that using the raw sale price of a house may not be the best metric for comparing homes. You would expect that in general larger homes would sell for higher prices than smaller homes. For example, a studio apartment is likely to cost less than a single family home with 4 bedrooms and 2 bathrooms. To better compare home prices, it is advantageous to take the size of the home into account. However, the dataset under analysis does not include a single feature representing the size of a home. For this step, make 2 transformations of the data:\n",
    "1. Create a new column `TotalSF` containing the estimated number of square feet for each home. Use the sum of following columns to calculate this value: `TotalBsmtSF`, `1stFlrSF`, `2ndFlrSF`, `WoodDeckSF`, `OpenPorchSF`.\n",
    "2. Calculate the sale price per square foot (sq. ft.) and add these values as a column named `PricePerSqFt`. \n",
    "\n",
    "Once you have added `PricePerSqFt` to your `DataFrame`, plot the distribution of these values and compare the distribution to that of the raw sale price."
   ]
  },
  {
   "cell_type": "code",
   "execution_count": 51,
   "id": "d7217716",
   "metadata": {},
   "outputs": [
    {
     "data": {
      "text/plain": [
       "0    2627\n",
       "1    2822\n",
       "2    2748\n",
       "3    2508\n",
       "4    3619\n",
       "Name: TotalSF, dtype: int64"
      ]
     },
     "execution_count": 51,
     "metadata": {},
     "output_type": "execute_result"
    }
   ],
   "source": [
    "housingDF['TotalSF'] = housingDF['TotalBsmtSF'] + housingDF['1stFlrSF'] + housingDF['2ndFlrSF'] + housingDF['WoodDeckSF'] + housingDF['OpenPorchSF']\n",
    "housingDF['TotalSF'].head()\n"
   ]
  },
  {
   "cell_type": "code",
   "execution_count": 52,
   "id": "5cd15909",
   "metadata": {},
   "outputs": [
    {
     "data": {
      "text/plain": [
       "0    79.368100\n",
       "1    64.316088\n",
       "2    81.331878\n",
       "3    55.821372\n",
       "4    69.079856\n",
       "Name: PricePerSqFt, dtype: float64"
      ]
     },
     "execution_count": 52,
     "metadata": {},
     "output_type": "execute_result"
    }
   ],
   "source": [
    "housingDF['PricePerSqFt'] = housingDF['SalePrice'] / housingDF['TotalSF']\n",
    "housingDF['PricePerSqFt'].head()"
   ]
  },
  {
   "cell_type": "code",
   "execution_count": 55,
   "id": "05f3abb7",
   "metadata": {},
   "outputs": [
    {
     "data": {
      "image/png": "[encoded data removed]",
      "text/plain": [
       "<Figure size 432x288 with 1 Axes>"
      ]
     },
     "metadata": {},
     "output_type": "display_data"
    }
   ],
   "source": [
    "x_PricePerSqFt, y_PricePerSqFt = ecdf(housingDF['PricePerSqFt'])\n",
    "\n",
    "# Generate plot\n",
    "_ = plt.plot(x_PricePerSqFt, y_PricePerSqFt, marker='.', linestyle='none')\n",
    "\n",
    "# Label the axes\n",
    "_ = plt.ylabel(\"ECDF\")\n",
    "_ = plt.xlabel(\"Price Per Sqare Foot\")\n",
    "\n",
    "# Display the plot\n",
    "plt.show()"
   ]
  },
  {
   "cell_type": "code",
   "execution_count": 57,
   "id": "7bf89d03",
   "metadata": {},
   "outputs": [
    {
     "data": {
      "image/png": "[encoded data removed]",
      "text/plain": [
       "<Figure size 432x288 with 1 Axes>"
      ]
     },
     "metadata": {},
     "output_type": "display_data"
    }
   ],
   "source": [
    "sns.set()\n",
    "_ = plt.hist(housingDF['PricePerSqFt'], bins=15)\n",
    "_ = plt.xlabel('Price per square foot')\n",
    "_ = plt.ylabel('Number of Houses')\n",
    "plt.show()"
   ]
  },
  {
   "cell_type": "markdown",
   "id": "1e33e7cc",
   "metadata": {},
   "source": [
    "<p>\n",
    "<span style=\"color:blue\">\n",
    "    <em>The distribution of price per square foot of a house seems to be closer to being normally distributed as one side of the histogram does not have a longer tail than the other. In comparison to the distrubution of the raw sale price, the raw sale price had a longer tail for house prices above 300k while prices in general were more concentrated to the left between 100k and 300k. Whereas here the price per square foot of a house is more concentrated between 50 and 90.\n",
    "    </em>\n",
    "</span>\n",
    "</p>"
   ]
  },
  {
   "cell_type": "markdown",
   "id": "397a21c9",
   "metadata": {},
   "source": [
    "3\\. Imagine that you are interested in buying a home in this market. Concerned with the maintenance that is required for older homes, you would like to focus your home search on homes that were built more recently. Therefore, you will restrict your search to homes built since 1946. However, you are undecided on whether to purchase a 1-story or 2-story home. To better focus your search, you would like to determine if there is a difference in the value of 1-story homes when compared to 2-story homes that have been built since 1946. Create a plot that allows you to visually compare the distribution of 1-story compared to 2-story homes based on sale prices per square foot for homes built since 1946.\n",
    "\n",
    "* Create two `pandas` `Series` objects: one containing the sale price per square foot for 1-story homes built since 1946 and the other containing the sale price per square foot for 2-story homes built since 1946. **Note** the following mapping between `MSSubClass` values and their descriptions:\n",
    "\n",
    "```text\n",
    "20  1-STORY 1946 & NEWER ALL STYLES\n",
    "60  2-STORY 1946 & NEWER\n",
    "120 1-STORY PUD (Planned Unit Development) - 1946 & NEWER\n",
    "160 2-STORY PUD - 1946 & NEWER\n",
    "```\n",
    "* Construct a plot that allows for the comparison of the distribution of the values of 1-story and 2-story homes built since 1946.\n",
    "\n",
    "Does your visualization give you reason to believe that there is a difference in the value of 1-story homes compared to 2-story homes?"
   ]
  },
  {
   "cell_type": "code",
   "execution_count": 92,
   "id": "df36fbcf",
   "metadata": {},
   "outputs": [
    {
     "name": "stdout",
     "output_type": "stream",
     "text": [
      "Is One Story after 1946?\n",
      "1       64.316088\n",
      "6       83.152763\n",
      "10      62.259615\n",
      "12      73.319756\n",
      "13      87.865451\n",
      "          ...    \n",
      "1453    35.623946\n",
      "1454    72.407045\n",
      "1456    52.976791\n",
      "1458    56.354084\n",
      "1459    44.481303\n",
      "Name: PricePerSqFt, Length: 623, dtype: float64\n",
      "\n",
      "Is Two Story after 1946?\n",
      "0       79.368100\n",
      "2       81.331878\n",
      "4       69.079856\n",
      "7       55.005501\n",
      "11      94.082356\n",
      "          ...    \n",
      "1433    68.365103\n",
      "1439    83.758503\n",
      "1442    95.561036\n",
      "1447    71.111111\n",
      "1455    66.287879\n",
      "Name: PricePerSqFt, Length: 362, dtype: float64\n"
     ]
    }
   ],
   "source": [
    "# Place your code here\n",
    "\n",
    "isOne = housingDF[(housingDF['MSSubClass'] == 20) | (housingDF['MSSubClass'] == 120)]\n",
    "isTwo = housingDF[(housingDF['MSSubClass'] == 60) | (housingDF['MSSubClass'] == 160)]\n",
    "#print(isOne)\n",
    "#print(isTwo)\n",
    "\n",
    "one_ser = pd.Series(isOne['PricePerSqFt'])\n",
    "two_ser = pd.Series(isTwo['PricePerSqFt'])\n",
    "\n",
    "print('Is One Story after 1946?')\n",
    "print(one_ser)\n",
    "print()\n",
    "print('Is Two Story after 1946?')\n",
    "print(two_ser)\n"
   ]
  },
  {
   "cell_type": "code",
   "execution_count": 96,
   "id": "3a2643e7",
   "metadata": {},
   "outputs": [
    {
     "data": {
      "image/png": "[encoded data removed]",
      "text/plain": [
       "<Figure size 432x288 with 1 Axes>"
      ]
     },
     "metadata": {},
     "output_type": "display_data"
    }
   ],
   "source": [
    "x_one, y_one = ecdf(one_ser)\n",
    "x_two, y_two = ecdf(two_ser)\n",
    "\n",
    "_ = plt.plot(x_one,y_one,marker='.',linestyle='none')\n",
    "_ = plt.plot(x_two,y_two,marker='.',linestyle='none')\n",
    "\n",
    "plt.legend(('OneStory', 'TwoStory'), loc='lower right')\n",
    "_ = plt.xlabel('Price Per Square Foot ($)')\n",
    "_ = plt.ylabel('ECDF')\n",
    "\n",
    "# Display the plot\n",
    "plt.show()"
   ]
  },
  {
   "cell_type": "markdown",
   "id": "e414f3d8",
   "metadata": {},
   "source": [
    "<p>\n",
    "<span style=\"color:blue\">\n",
    "    <em>My ecdf visualization does give reason to believe that there is a difference in value in 1-story homes and 2-story homes since most one-story homes have overall a lower price per square foot. There are two-story houses that have a similar price per square foot between 20 to 50 AND 90 to 110. However most data points are in the center where one story houses have lower prices per square foot.</em>\n",
    "</span>\n",
    "</p>"
   ]
  },
  {
   "cell_type": "markdown",
   "id": "0fc97f3a",
   "metadata": {},
   "source": [
    "4\\. It may be apparent from the distribution plots that some outlier values exist in the data. One way to account for the presence of extreme values when summarizing a dataset is by calculating the median as the summary statistic. Define and execute a bootstrap hypothesis test to determine if the data provides evidence for a difference in the value of 1-story homes compared to 2-story homes in the market that have been built since 1946. Recall the necessary components of a hypothesis test.\n",
    "* State the null hypothesis\n",
    "* Define a test statistic\n",
    "* Generate many data sets assuming the null hypothesis is true\n",
    "* Compute the test statistic for each data set\n",
    "* Compute a p-value as the fraction of the simulated data sets with a test statistic as extreme as the one observed\n",
    "* Evaluate how likely the null hypothesis is given the calculated p-value"
   ]
  },
  {
   "cell_type": "markdown",
   "id": "5364f33b",
   "metadata": {},
   "source": [
    "<p>\n",
    "<span style=\"color:blue\">\n",
    "    <em>The value of 1-story homes is the same as 2-story homes in the market that have been built since 1946.</em>\n",
    "</span>\n",
    "</p>"
   ]
  },
  {
   "cell_type": "markdown",
   "id": "64c1510b",
   "metadata": {},
   "source": [
    "<p>\n",
    "<span style=\"color:blue\">\n",
    "    <em>Test Statistic: Mean of PricePerSqFt for all 1-story and 2-story houses built since 1946 -> 69.3389248611983</em>\n",
    "</span>\n",
    "</p>"
   ]
  },
  {
   "cell_type": "code",
   "execution_count": 98,
   "id": "ec46cbd5",
   "metadata": {},
   "outputs": [
    {
     "name": "stdout",
     "output_type": "stream",
     "text": [
      "69.3389248611983\n"
     ]
    }
   ],
   "source": [
    "mean_PricePerSqFt = np.mean(np.concatenate((isOne['PricePerSqFt'],isTwo['PricePerSqFt'])))\n",
    "print(mean_PricePerSqFt)"
   ]
  },
  {
   "cell_type": "code",
   "execution_count": 104,
   "id": "4f226954",
   "metadata": {},
   "outputs": [],
   "source": [
    "def bootstrap_replicate_1d(data, func):\n",
    "    \"\"\"Generate bootstrap replicate of 1D data.\"\"\"\n",
    "    bs_sample = np.random.choice(data, len(data))\n",
    "    return func(bs_sample)\n",
    "\n",
    "\n",
    "def diff_of_means(data_1, data_2):\n",
    "    \"\"\"Difference in means of two arrays.\"\"\"\n",
    "\n",
    "    # The difference of means of data_1, data_2: diff\n",
    "    diff = np.mean(data_1)-np.mean(data_2)\n",
    "\n",
    "    return diff\n",
    "\n",
    "def draw_bs_reps(data, func, size=1):\n",
    "    \"\"\"Draw bootstrap replicates.\"\"\"\n",
    "\n",
    "    # Initialize array of replicates: bs_replicates\n",
    "    bs_replicates = np.empty(size)\n",
    "\n",
    "    # Generate replicates\n",
    "    for i in range(size):\n",
    "        bs_replicates[i] = bootstrap_replicate_1d(data,func)\n",
    "\n",
    "    return bs_replicates\n"
   ]
  },
  {
   "cell_type": "code",
   "execution_count": 110,
   "id": "5bb90e55",
   "metadata": {},
   "outputs": [
    {
     "name": "stdout",
     "output_type": "stream",
     "text": [
      "p-value = 1.0\n"
     ]
    }
   ],
   "source": [
    "empirical_diff_means = diff_of_means(isOne['PricePerSqFt'],isTwo['PricePerSqFt'])\n",
    "\n",
    "one_shifted = isOne['PricePerSqFt'] - np.mean(isOne['PricePerSqFt']) + mean_PricePerSqFt\n",
    "two_shifted = isTwo['PricePerSqFt'] - np.mean(isTwo['PricePerSqFt']) + mean_PricePerSqFt\n",
    "\n",
    "# Compute 10,000 bootstrap replicates from shifted arrays\n",
    "bs_replicates_one = draw_bs_reps(one_shifted, np.mean, size=10000)\n",
    "bs_replicates_two = draw_bs_reps(two_shifted, np.mean, size=10000)\n",
    "\n",
    "# Get replicates of difference of means: bs_replicates\n",
    "bs_replicates = bs_replicates_one - bs_replicates_two\n",
    "\n",
    "# Compute and print p-value: p\n",
    "p = np.sum(bs_replicates >= empirical_diff_means) / len(bs_replicates)\n",
    "print('p-value =', p)\n"
   ]
  },
  {
   "cell_type": "markdown",
   "id": "64ccf29d",
   "metadata": {},
   "source": [
    "<p>\n",
    "<span style=\"color:blue\">\n",
    "    <em>Evaluate the null hypothesis</em>\n",
    "</span>\n",
    "</p>"
   ]
  },
  {
   "cell_type": "markdown",
   "id": "f58a1f7e",
   "metadata": {},
   "source": [
    "5\\. As a home buyer in this marker is the home value (defined as the price per sq. ft.) a good basis for preferring 2-story homes vs 1-story homes or vice versa?"
   ]
  },
  {
   "cell_type": "markdown",
   "id": "1bcb4bba",
   "metadata": {},
   "source": [
    "<p>\n",
    "<span style=\"color:blue\">\n",
    "    <em>Place response here</em>\n",
    "</span>\n",
    "</p>"
   ]
  }
 ],
 "metadata": {
  "kernelspec": {
   "display_name": "DataScience",
   "language": "python",
   "name": "datascience"
  },
  "language_info": {
   "codemirror_mode": {
    "name": "ipython",
    "version": 3
   },
   "file_extension": ".py",
   "mimetype": "text/x-python",
   "name": "python",
   "nbconvert_exporter": "python",
   "pygments_lexer": "ipython3",
   "version": "3.9.7"
  }
 },
 "nbformat": 4,
 "nbformat_minor": 5
}
