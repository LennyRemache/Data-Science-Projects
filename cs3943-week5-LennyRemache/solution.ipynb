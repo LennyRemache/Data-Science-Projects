{
 "cells": [
  {
   "cell_type": "markdown",
   "id": "92321076",
   "metadata": {},
   "source": [
    "# CS-UY 3943 - Introduction of Data Science\n",
    "## Week 5: Linear Regression"
   ]
  },
  {
   "cell_type": "markdown",
   "id": "55269b98",
   "metadata": {},
   "source": [
    "Please edit the cell below to add your name, NetID, assigned group, and group members for this assignment. **Complete this section before proceeding to the assignment questions.**"
   ]
  },
  {
   "cell_type": "markdown",
   "id": "329f6f12",
   "metadata": {},
   "source": [
    "Name: Lenny Remache\n",
    "NetID: ljr381\n",
    "Group (Letter): B \n",
    "Group Member 1: Jimmy Pacheco\n",
    "Group Member 2: Abdelkarim \n",
    "***"
   ]
  },
  {
   "cell_type": "markdown",
   "id": "3319b44b",
   "metadata": {},
   "source": [
    "### Introduction\n",
    "Returning to the home sale prices dataset from the previous assignment, consider the goal of building a model that can use characteristics of a home to predict the price for which it will sell. The dataset has been modified so that the target value is the price (in dollars) per square foot (sq. ft.) for each home instead of the raw sale price for each home. The data consists of 81 total features for each home and 1,460 home sales in the dataset. Your goal for this assignment is to choose the feature that best predicts the price per square foot of a home from the 80 available predictive features. The 81 original features are described in the document **data_description.txt** provided in your repo. The file **housing_data_mod.csv** contains the field `PricePerSqFt` in place of `SalePrice`. The square foot value used to calculate this value is the sum of the values of the following features: `TotalBsmtSF`, `1stFlrSF`, `2ndFlrSF`, `WoodDeckSF`, and `OpenPorchSF`."
   ]
  },
  {
   "cell_type": "markdown",
   "id": "21f17a1c",
   "metadata": {},
   "source": [
    "1\\. Read in the data contained in the file **housing_data_mod.csv** as a `pandas DataFrame`. Imagine that you only have the ability to select one of the 80 features to use for predicting the price of a home (represented as the price per sq. ft.). Which one of the features would you select and why? (Be sure to include code providing data and/or visualizations to justify your choice)."
   ]
  },
  {
   "cell_type": "code",
   "execution_count": 80,
   "id": "c1a6a358",
   "metadata": {},
   "outputs": [
    {
     "data": {
      "text/plain": [
       "Index(['Id', 'MSSubClass', 'MSZoning', 'LotFrontage', 'LotArea', 'Street',\n",
       "       'Alley', 'LotShape', 'LandContour', 'Utilities', 'LotConfig',\n",
       "       'LandSlope', 'Neighborhood', 'Condition1', 'Condition2', 'BldgType',\n",
       "       'HouseStyle', 'OverallQual', 'OverallCond', 'YearBuilt', 'YearRemodAdd',\n",
       "       'RoofStyle', 'RoofMatl', 'Exterior1st', 'Exterior2nd', 'MasVnrType',\n",
       "       'MasVnrArea', 'ExterQual', 'ExterCond', 'Foundation', 'BsmtQual',\n",
       "       'BsmtCond', 'BsmtExposure', 'BsmtFinType1', 'BsmtFinSF1',\n",
       "       'BsmtFinType2', 'BsmtFinSF2', 'BsmtUnfSF', 'TotalBsmtSF', 'Heating',\n",
       "       'HeatingQC', 'CentralAir', 'Electrical', '1stFlrSF', '2ndFlrSF',\n",
       "       'LowQualFinSF', 'GrLivArea', 'BsmtFullBath', 'BsmtHalfBath', 'FullBath',\n",
       "       'HalfBath', 'BedroomAbvGr', 'KitchenAbvGr', 'KitchenQual',\n",
       "       'TotRmsAbvGrd', 'Functional', 'Fireplaces', 'FireplaceQu', 'GarageType',\n",
       "       'GarageYrBlt', 'GarageFinish', 'GarageCars', 'GarageArea', 'GarageQual',\n",
       "       'GarageCond', 'PavedDrive', 'WoodDeckSF', 'OpenPorchSF',\n",
       "       'EnclosedPorch', '3SsnPorch', 'ScreenPorch', 'PoolArea', 'PoolQC',\n",
       "       'Fence', 'MiscFeature', 'MiscVal', 'MoSold', 'YrSold', 'SaleType',\n",
       "       'SaleCondition', 'PricePerSqFt'],\n",
       "      dtype='object')"
      ]
     },
     "execution_count": 80,
     "metadata": {},
     "output_type": "execute_result"
    }
   ],
   "source": [
    "import pandas as pd\n",
    "import matplotlib.pyplot as plt\n",
    "import numpy as np\n",
    "%matplotlib inline\n",
    "\n",
    "houseDF = pd.read_csv('housing_data_mod.csv')\n",
    "\n",
    "columns = houseDF.columns\n",
    "columns"
   ]
  },
  {
   "cell_type": "code",
   "execution_count": 96,
   "id": "c39a6ea8",
   "metadata": {},
   "outputs": [
    {
     "data": {
      "text/html": [
       "<div>\n",
       "<style scoped>\n",
       "    .dataframe tbody tr th:only-of-type {\n",
       "        vertical-align: middle;\n",
       "    }\n",
       "\n",
       "    .dataframe tbody tr th {\n",
       "        vertical-align: top;\n",
       "    }\n",
       "\n",
       "    .dataframe thead th {\n",
       "        text-align: right;\n",
       "    }\n",
       "</style>\n",
       "<table border=\"1\" class=\"dataframe\">\n",
       "  <thead>\n",
       "    <tr style=\"text-align: right;\">\n",
       "      <th></th>\n",
       "      <th>Id</th>\n",
       "      <th>MSSubClass</th>\n",
       "      <th>MSZoning</th>\n",
       "      <th>LotFrontage</th>\n",
       "      <th>LotArea</th>\n",
       "      <th>Street</th>\n",
       "      <th>Alley</th>\n",
       "      <th>LotShape</th>\n",
       "      <th>LandContour</th>\n",
       "      <th>Utilities</th>\n",
       "      <th>...</th>\n",
       "      <th>PoolArea</th>\n",
       "      <th>PoolQC</th>\n",
       "      <th>Fence</th>\n",
       "      <th>MiscFeature</th>\n",
       "      <th>MiscVal</th>\n",
       "      <th>MoSold</th>\n",
       "      <th>YrSold</th>\n",
       "      <th>SaleType</th>\n",
       "      <th>SaleCondition</th>\n",
       "      <th>PricePerSqFt</th>\n",
       "    </tr>\n",
       "  </thead>\n",
       "  <tbody>\n",
       "    <tr>\n",
       "      <th>0</th>\n",
       "      <td>1</td>\n",
       "      <td>60</td>\n",
       "      <td>RL</td>\n",
       "      <td>65.0</td>\n",
       "      <td>8450</td>\n",
       "      <td>Pave</td>\n",
       "      <td>NaN</td>\n",
       "      <td>Reg</td>\n",
       "      <td>Lvl</td>\n",
       "      <td>AllPub</td>\n",
       "      <td>...</td>\n",
       "      <td>0</td>\n",
       "      <td>NaN</td>\n",
       "      <td>NaN</td>\n",
       "      <td>NaN</td>\n",
       "      <td>0</td>\n",
       "      <td>2</td>\n",
       "      <td>2008</td>\n",
       "      <td>WD</td>\n",
       "      <td>Normal</td>\n",
       "      <td>79.368100</td>\n",
       "    </tr>\n",
       "    <tr>\n",
       "      <th>1</th>\n",
       "      <td>2</td>\n",
       "      <td>20</td>\n",
       "      <td>RL</td>\n",
       "      <td>80.0</td>\n",
       "      <td>9600</td>\n",
       "      <td>Pave</td>\n",
       "      <td>NaN</td>\n",
       "      <td>Reg</td>\n",
       "      <td>Lvl</td>\n",
       "      <td>AllPub</td>\n",
       "      <td>...</td>\n",
       "      <td>0</td>\n",
       "      <td>NaN</td>\n",
       "      <td>NaN</td>\n",
       "      <td>NaN</td>\n",
       "      <td>0</td>\n",
       "      <td>5</td>\n",
       "      <td>2007</td>\n",
       "      <td>WD</td>\n",
       "      <td>Normal</td>\n",
       "      <td>64.316088</td>\n",
       "    </tr>\n",
       "    <tr>\n",
       "      <th>2</th>\n",
       "      <td>3</td>\n",
       "      <td>60</td>\n",
       "      <td>RL</td>\n",
       "      <td>68.0</td>\n",
       "      <td>11250</td>\n",
       "      <td>Pave</td>\n",
       "      <td>NaN</td>\n",
       "      <td>IR1</td>\n",
       "      <td>Lvl</td>\n",
       "      <td>AllPub</td>\n",
       "      <td>...</td>\n",
       "      <td>0</td>\n",
       "      <td>NaN</td>\n",
       "      <td>NaN</td>\n",
       "      <td>NaN</td>\n",
       "      <td>0</td>\n",
       "      <td>9</td>\n",
       "      <td>2008</td>\n",
       "      <td>WD</td>\n",
       "      <td>Normal</td>\n",
       "      <td>81.331878</td>\n",
       "    </tr>\n",
       "    <tr>\n",
       "      <th>3</th>\n",
       "      <td>4</td>\n",
       "      <td>70</td>\n",
       "      <td>RL</td>\n",
       "      <td>60.0</td>\n",
       "      <td>9550</td>\n",
       "      <td>Pave</td>\n",
       "      <td>NaN</td>\n",
       "      <td>IR1</td>\n",
       "      <td>Lvl</td>\n",
       "      <td>AllPub</td>\n",
       "      <td>...</td>\n",
       "      <td>0</td>\n",
       "      <td>NaN</td>\n",
       "      <td>NaN</td>\n",
       "      <td>NaN</td>\n",
       "      <td>0</td>\n",
       "      <td>2</td>\n",
       "      <td>2006</td>\n",
       "      <td>WD</td>\n",
       "      <td>Abnorml</td>\n",
       "      <td>55.821372</td>\n",
       "    </tr>\n",
       "    <tr>\n",
       "      <th>4</th>\n",
       "      <td>5</td>\n",
       "      <td>60</td>\n",
       "      <td>RL</td>\n",
       "      <td>84.0</td>\n",
       "      <td>14260</td>\n",
       "      <td>Pave</td>\n",
       "      <td>NaN</td>\n",
       "      <td>IR1</td>\n",
       "      <td>Lvl</td>\n",
       "      <td>AllPub</td>\n",
       "      <td>...</td>\n",
       "      <td>0</td>\n",
       "      <td>NaN</td>\n",
       "      <td>NaN</td>\n",
       "      <td>NaN</td>\n",
       "      <td>0</td>\n",
       "      <td>12</td>\n",
       "      <td>2008</td>\n",
       "      <td>WD</td>\n",
       "      <td>Normal</td>\n",
       "      <td>69.079856</td>\n",
       "    </tr>\n",
       "  </tbody>\n",
       "</table>\n",
       "<p>5 rows × 81 columns</p>\n",
       "</div>"
      ],
      "text/plain": [
       "   Id  MSSubClass MSZoning  LotFrontage  LotArea Street Alley LotShape  \\\n",
       "0   1          60       RL         65.0     8450   Pave   NaN      Reg   \n",
       "1   2          20       RL         80.0     9600   Pave   NaN      Reg   \n",
       "2   3          60       RL         68.0    11250   Pave   NaN      IR1   \n",
       "3   4          70       RL         60.0     9550   Pave   NaN      IR1   \n",
       "4   5          60       RL         84.0    14260   Pave   NaN      IR1   \n",
       "\n",
       "  LandContour Utilities  ... PoolArea PoolQC Fence MiscFeature MiscVal MoSold  \\\n",
       "0         Lvl    AllPub  ...        0    NaN   NaN         NaN       0      2   \n",
       "1         Lvl    AllPub  ...        0    NaN   NaN         NaN       0      5   \n",
       "2         Lvl    AllPub  ...        0    NaN   NaN         NaN       0      9   \n",
       "3         Lvl    AllPub  ...        0    NaN   NaN         NaN       0      2   \n",
       "4         Lvl    AllPub  ...        0    NaN   NaN         NaN       0     12   \n",
       "\n",
       "  YrSold  SaleType  SaleCondition  PricePerSqFt  \n",
       "0   2008        WD         Normal     79.368100  \n",
       "1   2007        WD         Normal     64.316088  \n",
       "2   2008        WD         Normal     81.331878  \n",
       "3   2006        WD        Abnorml     55.821372  \n",
       "4   2008        WD         Normal     69.079856  \n",
       "\n",
       "[5 rows x 81 columns]"
      ]
     },
     "execution_count": 96,
     "metadata": {},
     "output_type": "execute_result"
    }
   ],
   "source": [
    "houseDF.head()"
   ]
  },
  {
   "cell_type": "code",
   "execution_count": 81,
   "id": "9136ef2e",
   "metadata": {},
   "outputs": [
    {
     "name": "stdout",
     "output_type": "stream",
     "text": [
      "Id : -0.022204271732258203\n",
      "MSSubClass : -0.02468373462930616\n",
      "LotArea : 0.07667338543888147\n",
      "OverallQual : 0.4861304415584638\n",
      "OverallCond : 0.07328605672617222\n",
      "YearBuilt : 0.47442601502934284\n",
      "YearRemodAdd : 0.44475394228521314\n",
      "BsmtFinSF1 : 0.17821172349399206\n",
      "BsmtFinSF2 : -0.08890802572449545\n",
      "BsmtUnfSF : -0.14231663314042958\n",
      "TotalBsmtSF : 0.00924181037990298\n",
      "1stFlrSF : 0.05958300760603901\n",
      "2ndFlrSF : 0.0921871012330918\n",
      "LowQualFinSF : -0.05986360912247595\n",
      "GrLivArea : 0.11487697735119747\n",
      "BsmtFullBath : 0.14378675737900617\n",
      "BsmtHalfBath : -0.01713961655975193\n",
      "FullBath : 0.23750765791869846\n",
      "HalfBath : 0.16494497279347828\n",
      "BedroomAbvGr : -0.16258925149466083\n",
      "KitchenAbvGr : -0.22239817255104508\n",
      "TotRmsAbvGrd : 0.04205054293325226\n",
      "Fireplaces : 0.19238315654921131\n",
      "GarageCars : 0.41352839131741337\n",
      "GarageArea : 0.36942784873482215\n",
      "WoodDeckSF : 0.01649501433608578\n",
      "OpenPorchSF : 0.05306505621033392\n",
      "EnclosedPorch : -0.16136792987135107\n",
      "3SsnPorch : 0.045004596701547134\n",
      "ScreenPorch : 0.06189557425412697\n",
      "PoolArea : -0.004071912068658831\n",
      "MiscVal : -0.0047302772798093595\n",
      "MoSold : 0.016368505369835175\n",
      "YrSold : -0.023398368396184786\n",
      "\n",
      "Strongest Correlation with PricePerSqFt is OverallQual  :  0.4861304415584638\n"
     ]
    }
   ],
   "source": [
    "pricePerSqFt = houseDF['PricePerSqFt']\n",
    "\n",
    "corr = {}\n",
    "for column in columns:\n",
    "    if houseDF[column].dtype == 'int64':\n",
    "        corr[column] = (np.corrcoef(houseDF[column],pricePerSqFt)[0][1])\n",
    "        print(column, ':', corr[column])\n",
    "\n",
    "corrKeys = corr.keys()\n",
    "corrVals = corr.values()\n",
    "\n",
    "corrMax =  max(corrVals)\n",
    "for key in corrKeys:\n",
    "    if corr[key] == corrMax:\n",
    "        keyMax = key\n",
    "print('\\nStrongest Correlation with PricePerSqFt is', keyMax, ' : ', corrMax)\n",
    "    "
   ]
  },
  {
   "cell_type": "markdown",
   "id": "dd1c87b0",
   "metadata": {},
   "source": [
    "<p>\n",
    "<span style=\"color:blue\">\n",
    "The feature we chose is OverallQual because it has the highest and strongest correlation coefficient value out of all the columns that provide us with numeric values not string values. \n",
    "</span>\n",
    "</p>"
   ]
  },
  {
   "cell_type": "markdown",
   "id": "0a0e8ae7",
   "metadata": {},
   "source": [
    "2\\. Make a scatter plot for the chosen feature to visually explore the relationship between your chosen feature and `PricePerSqFt`. Place the chosen feature on the x-axis and the sale price per sq. ft. on the y-axis. Don't forget to label your axes and give the plot a title."
   ]
  },
  {
   "cell_type": "code",
   "execution_count": 82,
   "id": "0d134b2e",
   "metadata": {},
   "outputs": [
    {
     "data": {
      "image/png": "[encoded data removed]",
      "text/plain": [
       "<Figure size 432x288 with 1 Axes>"
      ]
     },
     "metadata": {
      "needs_background": "light"
     },
     "output_type": "display_data"
    }
   ],
   "source": [
    "\n",
    "overallQual = houseDF[keyMax]\n",
    "_ = plt.plot(overallQual,pricePerSqFt,marker='.',linestyle='none')\n",
    "_ = plt.xlabel('Overall Quality Value')\n",
    "_ = plt.ylabel('Price per Square Feet')\n",
    "_ = plt.title('Overall Quality Value vs Price Per Square Feet')\n",
    "plt.show()"
   ]
  },
  {
   "cell_type": "markdown",
   "id": "9a84d478",
   "metadata": {},
   "source": [
    "3\\. Estimate the parameters of a least-squares linear regression model (slope and intercept) using the feature selected in Question 1 to predict the price per sq. ft. of a home in the market. \n",
    "* Output the estimated slope and intercept of the model\n",
    "* Plot the model's trend line on a scatter plot of the features as constructed in Question 2\n",
    "* Using simple language, explain what the model says about the relationship between the chosen feature and the price per square foot of a home in the market"
   ]
  },
  {
   "cell_type": "code",
   "execution_count": 92,
   "id": "5ec6bb0e",
   "metadata": {},
   "outputs": [
    {
     "name": "stdout",
     "output_type": "stream",
     "text": [
      "Intercept:  35.65914199531088\n",
      "Slope:  5.044136389474748\n"
     ]
    }
   ],
   "source": [
    "from sklearn.linear_model import LinearRegression\n",
    "from statsmodels.formula.api import ols\n",
    "\n",
    "model = ols(formula='PricePerSqFt~OverallQual', data=houseDF)\n",
    "\n",
    "model = model.fit()\n",
    "\n",
    "intercept = model.params['Intercept']\n",
    "slope = model.params['OverallQual']\n",
    "print('Intercept: ', intercept)\n",
    "print('Slope: ', slope)\n"
   ]
  },
  {
   "cell_type": "code",
   "execution_count": 95,
   "id": "d485bd90",
   "metadata": {},
   "outputs": [
    {
     "data": {
      "image/png": "[encoded data removed]",
      "text/plain": [
       "<Figure size 432x288 with 1 Axes>"
      ]
     },
     "metadata": {
      "needs_background": "light"
     },
     "output_type": "display_data"
    },
    {
     "name": "stdout",
     "output_type": "stream",
     "text": [
      "r = 0.4861304415584638\n"
     ]
    }
   ],
   "source": [
    "overallQual = houseDF[keyMax]\n",
    "_ = plt.plot(overallQual,pricePerSqFt,marker='.',linestyle='none')\n",
    "_ = plt.xlabel('Overall Quality Value')\n",
    "_ = plt.ylabel('Price per Square Feet($)')\n",
    "_ = plt.title('Overall Quality Value vs Price Per Square Feet')\n",
    "_ = plt.plot(overallQual, overallQual*slope+intercept)\n",
    "plt.show()\n",
    "\n",
    "print('r =', corrMax)"
   ]
  },
  {
   "cell_type": "markdown",
   "id": "b83f64a8",
   "metadata": {},
   "source": [
    "<p>\n",
    "Generally, as the overal quality of a house increases the price per square foot of a house also increases. Which can be supported by the correlation coefficient value of 0.48 which is a moderate postive correlation between overall quality and price per square foot. \n",
    "</span>\n",
    "</p>"
   ]
  },
  {
   "cell_type": "markdown",
   "id": "447188fc",
   "metadata": {},
   "source": [
    "4\\. While visualizing the relationship between the features is helpful, using a statistical test can determine if the relationship is due to random chance or actually exists. Before performing the statistical test, begin by exploring how the data might change if repeating the sale of homes (sampling) from the same population of homes on the market. For this question complete the following steps:\n",
    "\n",
    "* Generate 10,000 bootstrap replicates of the slope and intercept for your chosen feature and the price per sq. ft. \n",
    "* Plot the distribution of bootstrap slope and intercept replicates on separate plots\n",
    "* Plot the first 200 lines formed by the bootstrap replicates for the slope and intercept on a scatter plot to visualize the variability in the replicates"
   ]
  },
  {
   "cell_type": "code",
   "execution_count": 102,
   "id": "ab0a3778",
   "metadata": {},
   "outputs": [],
   "source": [
    "def draw_bs_pairs_linreg(x, y, size=1):\n",
    "    \"\"\"Perform pairs bootstrap for linear regression.\"\"\"\n",
    "\n",
    "    # Set up array of indices to sample from: inds\n",
    "    inds = np.arange(len(x))\n",
    "\n",
    "    # Initialize replicates: bs_slope_reps, bs_intercept_reps\n",
    "    bs_slope_reps = np.empty(size)\n",
    "    bs_intercept_reps = np.empty(size)\n",
    "\n",
    "    # Generate replicates\n",
    "    for i in range(size):\n",
    "        bs_inds = np.random.choice(inds, size=len(inds))\n",
    "        bs_x, bs_y = x[bs_inds], y[bs_inds]\n",
    "        bs_slope_reps[i], bs_intercept_reps[i] = np.polyfit(bs_x,bs_y,1)\n",
    "\n",
    "    return bs_slope_reps, bs_intercept_reps\n"
   ]
  },
  {
   "cell_type": "code",
   "execution_count": 109,
   "id": "379ca211",
   "metadata": {},
   "outputs": [
    {
     "name": "stdout",
     "output_type": "stream",
     "text": [
      "[5.15409241 5.83655201 5.16663051 ... 4.93370811 5.73812829 4.92383104]\n",
      "[34.85409794 31.05289078 35.4083113  ... 36.26576494 31.19567117\n",
      " 36.14926306]\n"
     ]
    }
   ],
   "source": [
    "bs_replicates = draw_bs_pairs_linreg(overallQual,pricePerSqFt,10000)\n",
    "\n",
    "slopeReps = bs_replicates[0]\n",
    "interReps = bs_replicates[1]\n",
    "print(slopeReps)\n",
    "print(interReps)"
   ]
  },
  {
   "cell_type": "code",
   "execution_count": 117,
   "id": "734a0b1d",
   "metadata": {},
   "outputs": [
    {
     "data": {
      "image/png": "[encoded data removed]",
      "text/plain": [
       "<Figure size 432x288 with 1 Axes>"
      ]
     },
     "metadata": {
      "needs_background": "light"
     },
     "output_type": "display_data"
    }
   ],
   "source": [
    "_ = plt.hist(slopeReps,bins=31)\n",
    "_ = plt.xlabel('Slopes')\n",
    "_ = plt.ylabel('Count')\n",
    "plt.show()"
   ]
  },
  {
   "cell_type": "code",
   "execution_count": 118,
   "id": "6f3aa08e",
   "metadata": {},
   "outputs": [
    {
     "data": {
      "image/png": "[encoded data removed]",
      "text/plain": [
       "<Figure size 432x288 with 1 Axes>"
      ]
     },
     "metadata": {
      "needs_background": "light"
     },
     "output_type": "display_data"
    }
   ],
   "source": [
    "_ = plt.hist(interReps, bins=31)\n",
    "_ = plt.xlabel('Intercepts')\n",
    "_ = plt.ylabel('Count')\n",
    "plt.show()"
   ]
  },
  {
   "cell_type": "code",
   "execution_count": 139,
   "id": "23d8ce2c",
   "metadata": {},
   "outputs": [
    {
     "data": {
      "image/png": "[encoded data removed]",
      "text/plain": [
       "<Figure size 432x288 with 1 Axes>"
      ]
     },
     "metadata": {
      "needs_background": "light"
     },
     "output_type": "display_data"
    }
   ],
   "source": [
    "_ = plt.plot(overallQual, pricePerSqFt, marker='.', linestyle='none')\n",
    "for i in range(200):\n",
    "    _ = plt.plot(overallQual,slopeReps[i]*overallQual + interReps[i],linewidth=0.5, alpha=0.2, color='red')\n"
   ]
  },
  {
   "cell_type": "markdown",
   "id": "2acc9ca1",
   "metadata": {},
   "source": [
    "5\\. Develop a hypothesis test for the strength of the relationship between the selected feature and a homes price per sq. ft. Recall the steps required for defining and executing a hypothesis test:\n",
    "\n",
    "* State the null hypothesis\n",
    "* Define a test statistic\n",
    "* Generate many data sets assuming the null hypothesis is true\n",
    "* Compute the test statistic for each data set\n",
    "* Compute a p-value as the fraction of the simulated data sets with a test statistic as extreme as the one observed\n",
    "* Evaluate how likely the null hypothesis is given the calculated p-value"
   ]
  },
  {
   "cell_type": "markdown",
   "id": "a3fe78fa",
   "metadata": {},
   "source": [
    "<p>\n",
    "<span style=\"color:blue\">\n",
    "Null hypothesis: There is no linear replationship between overall quality and price per square feet.</span>\n",
    "</p>"
   ]
  },
  {
   "cell_type": "markdown",
   "id": "78ce5897",
   "metadata": {},
   "source": [
    "<p>\n",
    "<span style=\"color:blue\">\n",
    "Test Statistic: Correlation Coefficient -> 0.48\n",
    "</span>\n",
    "</p>"
   ]
  },
  {
   "cell_type": "code",
   "execution_count": 140,
   "id": "4f1ceee8",
   "metadata": {},
   "outputs": [
    {
     "name": "stdout",
     "output_type": "stream",
     "text": [
      "0.4861304415584638\n"
     ]
    }
   ],
   "source": [
    "testStatistic = np.corrcoef(overallQual, pricePerSqFt)\n",
    "print(testStatistic[0][1])"
   ]
  },
  {
   "cell_type": "code",
   "execution_count": 141,
   "id": "2d9dffd4",
   "metadata": {},
   "outputs": [],
   "source": [
    "\n",
    "def permutation_sample(data1, data2):\n",
    "    \"\"\"Generate a permutation sample from two data sets.\"\"\"\n",
    "\n",
    "    # Concatenate the data sets: data\n",
    "    data = np.concatenate((data1,data2))\n",
    "\n",
    "    # Permute the concatenated array: permuted_data\n",
    "    permuted_data = np.random.permutation(data)\n",
    "\n",
    "    # Split the permuted array into two: perm_sample_1, perm_sample_2\n",
    "    perm_sample_1 = permuted_data[:len(data1)]\n",
    "    perm_sample_2 = permuted_data[len(data1):]\n",
    "\n",
    "    return perm_sample_1, perm_sample_2\n",
    "\n",
    "def draw_perm_reps(data_1, data_2, func, size=1):\n",
    "    \"\"\"Generate multiple permutation replicates.\"\"\"\n",
    "\n",
    "    # Initialize array of replicates: perm_replicates\n",
    "    perm_replicates = np.empty(size)\n",
    "\n",
    "    for i in range(size):\n",
    "        # Generate permutation sample\n",
    "        perm_sample_1, perm_sample_2 = permutation_sample(data_1,data_2)\n",
    "\n",
    "        # Compute the test statistic\n",
    "        perm_replicates[i] = func(perm_sample_1,perm_sample_2)\n",
    "\n",
    "    return perm_replicates\n",
    "\n",
    "def diff_of_corrcoef(data_1, data_2):\n",
    "    diff = np.corrcoef(data_2)-np.corrcoef(data_1)\n",
    "\n",
    "    return diff"
   ]
  },
  {
   "cell_type": "code",
   "execution_count": 147,
   "id": "a15eb482",
   "metadata": {},
   "outputs": [
    {
     "name": "stdout",
     "output_type": "stream",
     "text": [
      "p: 1.0\n"
     ]
    }
   ],
   "source": [
    "empirical_diff_corrcoef = diff_of_corrcoef(overallQual,pricePerSqFt)\n",
    "\n",
    "perm_replicates = draw_perm_reps(overallQual,pricePerSqFt,diff_of_corrcoef, size=10000)\n",
    "\n",
    "p = np.sum(perm_replicates <= empirical_diff_corrcoef) / len(perm_replicates)\n",
    "\n",
    "print('p:',p)"
   ]
  },
  {
   "cell_type": "markdown",
   "id": "0458d19c",
   "metadata": {},
   "source": [
    "<p>\n",
    "<span style=\"color:blue\">\n",
    "Evaluate the null hypothesis here\n",
    "</span>\n",
    "</p>"
   ]
  },
  {
   "cell_type": "markdown",
   "id": "6ea7dcf5",
   "metadata": {},
   "source": [
    "6\\. Goodness of fit statistics allow for the evaluation of how well a model fits observed data. To determine how well a model using the chosen feature predicts the price per square foot for a home, calculate and output the root mean-squared error (RMSE) and R^2 statistics for the model.  \n",
    "\n",
    "For RMSE:\n",
    "* use the slope and intercept estimated previously to calculate the predicted price per square foot\n",
    "* calculate the residuals between the predicted model and observed values\n",
    "* use the calculated residuals to compute the RMSE without using a function provided in a Python package  \n",
    "\n",
    "For R^2:\n",
    "* calculate the variance in the price per square foot\n",
    "* calculate the variance in the residuals\n",
    "* use the two variance values to compute R^2 without using a function provided in a Python package\n",
    "\n",
    "What do the values of these statistics indicate about the appropriateness of the model for predicting the price per square foot for homes in the market?"
   ]
  },
  {
   "cell_type": "code",
   "execution_count": null,
   "id": "a96bb782",
   "metadata": {},
   "outputs": [],
   "source": [
    "# Place code here"
   ]
  },
  {
   "cell_type": "markdown",
   "id": "fd431a97",
   "metadata": {},
   "source": [
    "<p>\n",
    "<span style=\"color:blue\">\n",
    "Place response here\n",
    "</span>\n",
    "</p>"
   ]
  }
 ],
 "metadata": {
  "kernelspec": {
   "display_name": "DataScience",
   "language": "python",
   "name": "datascience"
  },
  "language_info": {
   "codemirror_mode": {
    "name": "ipython",
    "version": 3
   },
   "file_extension": ".py",
   "mimetype": "text/x-python",
   "name": "python",
   "nbconvert_exporter": "python",
   "pygments_lexer": "ipython3",
   "version": "3.9.7"
  }
 },
 "nbformat": 4,
 "nbformat_minor": 5
}
